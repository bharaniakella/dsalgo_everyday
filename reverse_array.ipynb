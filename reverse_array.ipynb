{
  "nbformat": 4,
  "nbformat_minor": 0,
  "metadata": {
    "colab": {
      "provenance": [],
      "authorship_tag": "ABX9TyOIV/uUmOvA5flmU/0jV40C",
      "include_colab_link": true
    },
    "kernelspec": {
      "name": "python3",
      "display_name": "Python 3"
    },
    "language_info": {
      "name": "python"
    }
  },
  "cells": [
    {
      "cell_type": "markdown",
      "metadata": {
        "id": "view-in-github",
        "colab_type": "text"
      },
      "source": [
        "<a href=\"https://colab.research.google.com/github/bharaniakella/dsalgo_everyday/blob/main/reverse_array.ipynb\" target=\"_parent\"><img src=\"https://colab.research.google.com/assets/colab-badge.svg\" alt=\"Open In Colab\"/></a>"
      ]
    },
    {
      "cell_type": "code",
      "execution_count": 12,
      "metadata": {
        "id": "VaTI92EziX58"
      },
      "outputs": [],
      "source": [
        "import numpy as np\n",
        "arr=np.array([1,2,3,4,5,6])\n",
        "\n",
        "def rev_array(arr):\n",
        "  start=0\n",
        "  end=len(arr)-1\n",
        "  while(start<=end):\n",
        "    temp=arr[start]\n",
        "    arr[start]=arr[end]\n",
        "    arr[end]=temp\n",
        "    start=start+1\n",
        "    end=end-1\n",
        "  return arr"
      ]
    },
    {
      "cell_type": "code",
      "source": [
        "rev_array(arr)"
      ],
      "metadata": {
        "colab": {
          "base_uri": "https://localhost:8080/"
        },
        "id": "gbyZftEhjbHx",
        "outputId": "f83a6aa8-0b9f-4a0e-c5d5-7a35b67a4e7d"
      },
      "execution_count": 13,
      "outputs": [
        {
          "output_type": "execute_result",
          "data": {
            "text/plain": [
              "array([6, 5, 4, 3, 2, 1])"
            ]
          },
          "metadata": {},
          "execution_count": 13
        }
      ]
    },
    {
      "cell_type": "code",
      "source": [],
      "metadata": {
        "id": "3QqYpg6tje1-"
      },
      "execution_count": null,
      "outputs": []
    }
  ]
}