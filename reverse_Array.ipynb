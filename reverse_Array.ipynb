{
  "nbformat": 4,
  "nbformat_minor": 0,
  "metadata": {
    "colab": {
      "provenance": [],
      "authorship_tag": "ABX9TyMD3wos2gY3LN+s6p2PjzM4",
      "include_colab_link": true
    },
    "kernelspec": {
      "name": "python3",
      "display_name": "Python 3"
    },
    "language_info": {
      "name": "python"
    }
  },
  "cells": [
    {
      "cell_type": "markdown",
      "metadata": {
        "id": "view-in-github",
        "colab_type": "text"
      },
      "source": [
        "<a href=\"https://colab.research.google.com/github/bharaniakella/dsalgo_everyday/blob/main/reverse_Array.ipynb\" target=\"_parent\"><img src=\"https://colab.research.google.com/assets/colab-badge.svg\" alt=\"Open In Colab\"/></a>"
      ]
    },
    {
      "cell_type": "code",
      "execution_count": 1,
      "metadata": {
        "id": "vxCR16fonNHP"
      },
      "outputs": [],
      "source": [
        "import numpy as np\n",
        "arr=np.array([1,2,3,4,5,6])\n",
        "\n",
        "def rev_array(arr):\n",
        "  start=0\n",
        "  end=len(arr)-1\n",
        "  while(start<=end):\n",
        "    temp=arr[start]\n",
        "    arr[start]=arr[end]\n",
        "    arr[end]=temp\n",
        "    start=start+1\n",
        "    end=end-1\n",
        "  return arr"
      ]
    },
    {
      "cell_type": "code",
      "source": [],
      "metadata": {
        "id": "BisN-ykjnOjw"
      },
      "execution_count": null,
      "outputs": []
    }
  ]
}